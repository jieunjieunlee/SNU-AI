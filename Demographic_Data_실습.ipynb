{
  "nbformat": 4,
  "nbformat_minor": 0,
  "metadata": {
    "colab": {
      "name": "Demographic Data - 실습",
      "provenance": []
    },
    "kernelspec": {
      "name": "python3",
      "display_name": "Python 3"
    }
  },
  "cells": [
    {
      "cell_type": "code",
      "metadata": {
        "id": "K3wly61tYCXG",
        "colab_type": "code",
        "outputId": "959f9525-48a2-4fed-a16b-8f3538b67f40",
        "colab": {
          "base_uri": "https://localhost:8080/",
          "height": 36
        }
      },
      "source": [
        "from google.colab import drive\n",
        "drive.mount('/content/drive')"
      ],
      "execution_count": 0,
      "outputs": [
        {
          "output_type": "stream",
          "text": [
            "Drive already mounted at /content/drive; to attempt to forcibly remount, call drive.mount(\"/content/drive\", force_remount=True).\n"
          ],
          "name": "stdout"
        }
      ]
    },
    {
      "cell_type": "code",
      "metadata": {
        "id": "yc-KyF_MYNME",
        "colab_type": "code",
        "colab": {}
      },
      "source": [
        "import numpy as np\n",
        "import pandas as pd\n",
        "import os\n",
        "\n",
        "import statsmodels.api as sm\n",
        "\n",
        "import matplotlib.pyplot as plt\n",
        "%matplotlib inline"
      ],
      "execution_count": 0,
      "outputs": []
    },
    {
      "cell_type": "code",
      "metadata": {
        "id": "FVSWqhxGYsdx",
        "colab_type": "code",
        "outputId": "affd7849-3726-4f59-af32-105884cd845c",
        "colab": {
          "base_uri": "https://localhost:8080/",
          "height": 36
        }
      },
      "source": [
        "os.getcwd()"
      ],
      "execution_count": 0,
      "outputs": [
        {
          "output_type": "execute_result",
          "data": {
            "text/plain": [
              "'/content'"
            ]
          },
          "metadata": {
            "tags": []
          },
          "execution_count": 26
        }
      ]
    },
    {
      "cell_type": "code",
      "metadata": {
        "id": "aDbTTidTYtip",
        "colab_type": "code",
        "colab": {}
      },
      "source": [
        "data=pd.read_csv(\"/content/drive/My Drive/Colab Notebooks/data/DemographicData.csv\", engine=\"python\")"
      ],
      "execution_count": 0,
      "outputs": []
    },
    {
      "cell_type": "markdown",
      "metadata": {
        "id": "3CrXZXIZZpMl",
        "colab_type": "text"
      },
      "source": [
        "1) data의 첫 10줄 불러오기"
      ]
    },
    {
      "cell_type": "code",
      "metadata": {
        "id": "m_764xjlZshk",
        "colab_type": "code",
        "outputId": "70e33c63-5fb8-4c34-8280-c94309e1dd85",
        "colab": {
          "base_uri": "https://localhost:8080/",
          "height": 355
        }
      },
      "source": [
        "data.head(10)"
      ],
      "execution_count": 0,
      "outputs": [
        {
          "output_type": "execute_result",
          "data": {
            "text/html": [
              "<div>\n",
              "<style scoped>\n",
              "    .dataframe tbody tr th:only-of-type {\n",
              "        vertical-align: middle;\n",
              "    }\n",
              "\n",
              "    .dataframe tbody tr th {\n",
              "        vertical-align: top;\n",
              "    }\n",
              "\n",
              "    .dataframe thead th {\n",
              "        text-align: right;\n",
              "    }\n",
              "</style>\n",
              "<table border=\"1\" class=\"dataframe\">\n",
              "  <thead>\n",
              "    <tr style=\"text-align: right;\">\n",
              "      <th></th>\n",
              "      <th>year</th>\n",
              "      <th>country</th>\n",
              "      <th>country_code</th>\n",
              "      <th>Birth_rate</th>\n",
              "      <th>Internet_users</th>\n",
              "      <th>Income_Group</th>\n",
              "      <th>dev_index</th>\n",
              "    </tr>\n",
              "  </thead>\n",
              "  <tbody>\n",
              "    <tr>\n",
              "      <th>0</th>\n",
              "      <td>2008.0</td>\n",
              "      <td>Eritrea</td>\n",
              "      <td>ERI</td>\n",
              "      <td>34.8</td>\n",
              "      <td>0.9</td>\n",
              "      <td>Low income</td>\n",
              "      <td>0.819580</td>\n",
              "    </tr>\n",
              "    <tr>\n",
              "      <th>1</th>\n",
              "      <td>2008.0</td>\n",
              "      <td>Timor-Leste</td>\n",
              "      <td>TLS</td>\n",
              "      <td>35.755</td>\n",
              "      <td>1.1</td>\n",
              "      <td>Lower middle income</td>\n",
              "      <td>0.774004</td>\n",
              "    </tr>\n",
              "    <tr>\n",
              "      <th>2</th>\n",
              "      <td>2008.0</td>\n",
              "      <td>Burundi</td>\n",
              "      <td>BDI</td>\n",
              "      <td>44.151</td>\n",
              "      <td>1.3</td>\n",
              "      <td>Low income</td>\n",
              "      <td>0.766151</td>\n",
              "    </tr>\n",
              "    <tr>\n",
              "      <th>3</th>\n",
              "      <td>2008.0</td>\n",
              "      <td>Somalia</td>\n",
              "      <td>SOM</td>\n",
              "      <td>43.891</td>\n",
              "      <td>1.5</td>\n",
              "      <td>Low income</td>\n",
              "      <td>0.822580</td>\n",
              "    </tr>\n",
              "    <tr>\n",
              "      <th>4</th>\n",
              "      <td>2008.0</td>\n",
              "      <td>Guinea</td>\n",
              "      <td>GIN</td>\n",
              "      <td>37.337</td>\n",
              "      <td>1.6</td>\n",
              "      <td>Low income</td>\n",
              "      <td>0.836394</td>\n",
              "    </tr>\n",
              "    <tr>\n",
              "      <th>5</th>\n",
              "      <td>2008.0</td>\n",
              "      <td>Myanmar</td>\n",
              "      <td>MMR</td>\n",
              "      <td>18.119</td>\n",
              "      <td>1.6</td>\n",
              "      <td>Lower middle income</td>\n",
              "      <td>0.818104</td>\n",
              "    </tr>\n",
              "    <tr>\n",
              "      <th>6</th>\n",
              "      <td>2008.0</td>\n",
              "      <td>Niger</td>\n",
              "      <td>NER</td>\n",
              "      <td>49.661</td>\n",
              "      <td>1.7</td>\n",
              "      <td>Low income</td>\n",
              "      <td>0.769059</td>\n",
              "    </tr>\n",
              "    <tr>\n",
              "      <th>7</th>\n",
              "      <td>2008.0</td>\n",
              "      <td>Sierra Leone</td>\n",
              "      <td>SLE</td>\n",
              "      <td>36.729</td>\n",
              "      <td>1.7</td>\n",
              "      <td>Low income</td>\n",
              "      <td>NaN</td>\n",
              "    </tr>\n",
              "    <tr>\n",
              "      <th>8</th>\n",
              "      <td>2008.0</td>\n",
              "      <td>Ethiopia</td>\n",
              "      <td>ETH</td>\n",
              "      <td>32.925</td>\n",
              "      <td>1.9</td>\n",
              "      <td>Low income</td>\n",
              "      <td>0.802674</td>\n",
              "    </tr>\n",
              "    <tr>\n",
              "      <th>9</th>\n",
              "      <td>2009.0</td>\n",
              "      <td>Ethiopia</td>\n",
              "      <td>ETH</td>\n",
              "      <td>32.925</td>\n",
              "      <td>1.9</td>\n",
              "      <td>Low income</td>\n",
              "      <td>0.902674</td>\n",
              "    </tr>\n",
              "  </tbody>\n",
              "</table>\n",
              "</div>"
            ],
            "text/plain": [
              "     year       country  ...         Income_Group dev_index\n",
              "0  2008.0       Eritrea  ...           Low income  0.819580\n",
              "1  2008.0   Timor-Leste  ...  Lower middle income  0.774004\n",
              "2  2008.0       Burundi  ...           Low income  0.766151\n",
              "3  2008.0       Somalia  ...           Low income  0.822580\n",
              "4  2008.0        Guinea  ...           Low income  0.836394\n",
              "5  2008.0       Myanmar  ...  Lower middle income  0.818104\n",
              "6  2008.0         Niger  ...           Low income  0.769059\n",
              "7  2008.0  Sierra Leone  ...           Low income       NaN\n",
              "8  2008.0      Ethiopia  ...           Low income  0.802674\n",
              "9  2009.0      Ethiopia  ...           Low income  0.902674\n",
              "\n",
              "[10 rows x 7 columns]"
            ]
          },
          "metadata": {
            "tags": []
          },
          "execution_count": 28
        }
      ]
    },
    {
      "cell_type": "markdown",
      "metadata": {
        "id": "q-pAYGPJZ4wk",
        "colab_type": "text"
      },
      "source": [
        "2) 어떤 변수들이 있는지, 각 변수별로 몇 개의 표본수가 있는지 확인하고, \n",
        "숫자형, 문자형이 알맞게 불러와졌는지 확인"
      ]
    },
    {
      "cell_type": "code",
      "metadata": {
        "id": "sgOnoWPhZ9Ij",
        "colab_type": "code",
        "outputId": "d91fb27c-b1c0-488b-b31c-008b4cbdc357",
        "colab": {
          "base_uri": "https://localhost:8080/",
          "height": 241
        }
      },
      "source": [
        "data.info()"
      ],
      "execution_count": 0,
      "outputs": [
        {
          "output_type": "stream",
          "text": [
            "<class 'pandas.core.frame.DataFrame'>\n",
            "RangeIndex: 585 entries, 0 to 584\n",
            "Data columns (total 7 columns):\n",
            "year              583 non-null float64\n",
            "country           585 non-null object\n",
            "country_code      583 non-null object\n",
            "Birth_rate        585 non-null object\n",
            "Internet_users    584 non-null float64\n",
            "Income_Group      578 non-null object\n",
            "dev_index         581 non-null float64\n",
            "dtypes: float64(3), object(4)\n",
            "memory usage: 32.1+ KB\n"
          ],
          "name": "stdout"
        }
      ]
    },
    {
      "cell_type": "code",
      "metadata": {
        "id": "dwFVbGZjcCFl",
        "colab_type": "code",
        "outputId": "027de75a-dfab-4323-f4e2-974bd1e02bcf",
        "colab": {
          "base_uri": "https://localhost:8080/",
          "height": 167
        }
      },
      "source": [
        "data.isnull().sum()"
      ],
      "execution_count": 0,
      "outputs": [
        {
          "output_type": "execute_result",
          "data": {
            "text/plain": [
              "year              2\n",
              "country           0\n",
              "country_code      2\n",
              "Birth_rate        0\n",
              "Internet_users    1\n",
              "Income_Group      7\n",
              "dev_index         4\n",
              "dtype: int64"
            ]
          },
          "metadata": {
            "tags": []
          },
          "execution_count": 30
        }
      ]
    },
    {
      "cell_type": "markdown",
      "metadata": {
        "id": "-m6MWFoNa3XM",
        "colab_type": "text"
      },
      "source": [
        "\n",
        "*   총 7개의 변수로 이루어져 있음 \n",
        "1.  숫자형 : year, Internet_users, dev_index\n",
        "2.  문자형 : country, country_code, Birth_rate, Income_Group\n",
        "*   이 중 birth_rate은 문자형이 아니라 숫자형(float)이 되어야 함\n",
        "*   country, Birth_rate 제외하고 약간의 결측치 존재"
      ]
    },
    {
      "cell_type": "code",
      "metadata": {
        "id": "OJvuKlkvbVMg",
        "colab_type": "code",
        "colab": {}
      },
      "source": [
        "data.rename(str.lower, inplace = True, axis = 1) #작업상의 편의를 위해 변수명 모두 소문자로 변경 "
      ],
      "execution_count": 0,
      "outputs": []
    },
    {
      "cell_type": "code",
      "metadata": {
        "id": "PgZwyYWXcwia",
        "colab_type": "code",
        "outputId": "e3fbe9fd-09d8-4da3-ab84-eb3dfcac024c",
        "colab": {
          "base_uri": "https://localhost:8080/",
          "height": 331
        }
      },
      "source": [
        "data = data.astype({'birth_rate':np.float}) #'Na'가 np.nan으로 인식되지 않아서 숫자형으로 변환 불가 "
      ],
      "execution_count": 0,
      "outputs": [
        {
          "output_type": "error",
          "ename": "ValueError",
          "evalue": "ignored",
          "traceback": [
            "\u001b[0;31m---------------------------------------------------------------------------\u001b[0m",
            "\u001b[0;31mValueError\u001b[0m                                Traceback (most recent call last)",
            "\u001b[0;32m<ipython-input-32-cf9a9c05e0ae>\u001b[0m in \u001b[0;36m<module>\u001b[0;34m()\u001b[0m\n\u001b[0;32m----> 1\u001b[0;31m \u001b[0mdata\u001b[0m \u001b[0;34m=\u001b[0m \u001b[0mdata\u001b[0m\u001b[0;34m.\u001b[0m\u001b[0mastype\u001b[0m\u001b[0;34m(\u001b[0m\u001b[0;34m{\u001b[0m\u001b[0;34m'birth_rate'\u001b[0m\u001b[0;34m:\u001b[0m\u001b[0mnp\u001b[0m\u001b[0;34m.\u001b[0m\u001b[0mfloat\u001b[0m\u001b[0;34m}\u001b[0m\u001b[0;34m)\u001b[0m \u001b[0;31m#'Na'가 np.nan으로 인식되지 않아서 숫자형으로 변환 불가\u001b[0m\u001b[0;34m\u001b[0m\u001b[0;34m\u001b[0m\u001b[0m\n\u001b[0m",
            "\u001b[0;32m/usr/local/lib/python3.6/dist-packages/pandas/core/generic.py\u001b[0m in \u001b[0;36mastype\u001b[0;34m(self, dtype, copy, errors, **kwargs)\u001b[0m\n\u001b[1;32m   5863\u001b[0m                     results.append(\n\u001b[1;32m   5864\u001b[0m                         col.astype(\n\u001b[0;32m-> 5865\u001b[0;31m                             \u001b[0mdtype\u001b[0m\u001b[0;34m=\u001b[0m\u001b[0mdtype\u001b[0m\u001b[0;34m[\u001b[0m\u001b[0mcol_name\u001b[0m\u001b[0;34m]\u001b[0m\u001b[0;34m,\u001b[0m \u001b[0mcopy\u001b[0m\u001b[0;34m=\u001b[0m\u001b[0mcopy\u001b[0m\u001b[0;34m,\u001b[0m \u001b[0merrors\u001b[0m\u001b[0;34m=\u001b[0m\u001b[0merrors\u001b[0m\u001b[0;34m,\u001b[0m \u001b[0;34m**\u001b[0m\u001b[0mkwargs\u001b[0m\u001b[0;34m\u001b[0m\u001b[0;34m\u001b[0m\u001b[0m\n\u001b[0m\u001b[1;32m   5866\u001b[0m                         )\n\u001b[1;32m   5867\u001b[0m                     )\n",
            "\u001b[0;32m/usr/local/lib/python3.6/dist-packages/pandas/core/generic.py\u001b[0m in \u001b[0;36mastype\u001b[0;34m(self, dtype, copy, errors, **kwargs)\u001b[0m\n\u001b[1;32m   5880\u001b[0m             \u001b[0;31m# else, only a single dtype is given\u001b[0m\u001b[0;34m\u001b[0m\u001b[0;34m\u001b[0m\u001b[0;34m\u001b[0m\u001b[0m\n\u001b[1;32m   5881\u001b[0m             new_data = self._data.astype(\n\u001b[0;32m-> 5882\u001b[0;31m                 \u001b[0mdtype\u001b[0m\u001b[0;34m=\u001b[0m\u001b[0mdtype\u001b[0m\u001b[0;34m,\u001b[0m \u001b[0mcopy\u001b[0m\u001b[0;34m=\u001b[0m\u001b[0mcopy\u001b[0m\u001b[0;34m,\u001b[0m \u001b[0merrors\u001b[0m\u001b[0;34m=\u001b[0m\u001b[0merrors\u001b[0m\u001b[0;34m,\u001b[0m \u001b[0;34m**\u001b[0m\u001b[0mkwargs\u001b[0m\u001b[0;34m\u001b[0m\u001b[0;34m\u001b[0m\u001b[0m\n\u001b[0m\u001b[1;32m   5883\u001b[0m             )\n\u001b[1;32m   5884\u001b[0m             \u001b[0;32mreturn\u001b[0m \u001b[0mself\u001b[0m\u001b[0;34m.\u001b[0m\u001b[0m_constructor\u001b[0m\u001b[0;34m(\u001b[0m\u001b[0mnew_data\u001b[0m\u001b[0;34m)\u001b[0m\u001b[0;34m.\u001b[0m\u001b[0m__finalize__\u001b[0m\u001b[0;34m(\u001b[0m\u001b[0mself\u001b[0m\u001b[0;34m)\u001b[0m\u001b[0;34m\u001b[0m\u001b[0;34m\u001b[0m\u001b[0m\n",
            "\u001b[0;32m/usr/local/lib/python3.6/dist-packages/pandas/core/internals/managers.py\u001b[0m in \u001b[0;36mastype\u001b[0;34m(self, dtype, **kwargs)\u001b[0m\n\u001b[1;32m    579\u001b[0m \u001b[0;34m\u001b[0m\u001b[0m\n\u001b[1;32m    580\u001b[0m     \u001b[0;32mdef\u001b[0m \u001b[0mastype\u001b[0m\u001b[0;34m(\u001b[0m\u001b[0mself\u001b[0m\u001b[0;34m,\u001b[0m \u001b[0mdtype\u001b[0m\u001b[0;34m,\u001b[0m \u001b[0;34m**\u001b[0m\u001b[0mkwargs\u001b[0m\u001b[0;34m)\u001b[0m\u001b[0;34m:\u001b[0m\u001b[0;34m\u001b[0m\u001b[0;34m\u001b[0m\u001b[0m\n\u001b[0;32m--> 581\u001b[0;31m         \u001b[0;32mreturn\u001b[0m \u001b[0mself\u001b[0m\u001b[0;34m.\u001b[0m\u001b[0mapply\u001b[0m\u001b[0;34m(\u001b[0m\u001b[0;34m\"astype\"\u001b[0m\u001b[0;34m,\u001b[0m \u001b[0mdtype\u001b[0m\u001b[0;34m=\u001b[0m\u001b[0mdtype\u001b[0m\u001b[0;34m,\u001b[0m \u001b[0;34m**\u001b[0m\u001b[0mkwargs\u001b[0m\u001b[0;34m)\u001b[0m\u001b[0;34m\u001b[0m\u001b[0;34m\u001b[0m\u001b[0m\n\u001b[0m\u001b[1;32m    582\u001b[0m \u001b[0;34m\u001b[0m\u001b[0m\n\u001b[1;32m    583\u001b[0m     \u001b[0;32mdef\u001b[0m \u001b[0mconvert\u001b[0m\u001b[0;34m(\u001b[0m\u001b[0mself\u001b[0m\u001b[0;34m,\u001b[0m \u001b[0;34m**\u001b[0m\u001b[0mkwargs\u001b[0m\u001b[0;34m)\u001b[0m\u001b[0;34m:\u001b[0m\u001b[0;34m\u001b[0m\u001b[0;34m\u001b[0m\u001b[0m\n",
            "\u001b[0;32m/usr/local/lib/python3.6/dist-packages/pandas/core/internals/managers.py\u001b[0m in \u001b[0;36mapply\u001b[0;34m(self, f, axes, filter, do_integrity_check, consolidate, **kwargs)\u001b[0m\n\u001b[1;32m    436\u001b[0m                     \u001b[0mkwargs\u001b[0m\u001b[0;34m[\u001b[0m\u001b[0mk\u001b[0m\u001b[0;34m]\u001b[0m \u001b[0;34m=\u001b[0m \u001b[0mobj\u001b[0m\u001b[0;34m.\u001b[0m\u001b[0mreindex\u001b[0m\u001b[0;34m(\u001b[0m\u001b[0mb_items\u001b[0m\u001b[0;34m,\u001b[0m \u001b[0maxis\u001b[0m\u001b[0;34m=\u001b[0m\u001b[0maxis\u001b[0m\u001b[0;34m,\u001b[0m \u001b[0mcopy\u001b[0m\u001b[0;34m=\u001b[0m\u001b[0malign_copy\u001b[0m\u001b[0;34m)\u001b[0m\u001b[0;34m\u001b[0m\u001b[0;34m\u001b[0m\u001b[0m\n\u001b[1;32m    437\u001b[0m \u001b[0;34m\u001b[0m\u001b[0m\n\u001b[0;32m--> 438\u001b[0;31m             \u001b[0mapplied\u001b[0m \u001b[0;34m=\u001b[0m \u001b[0mgetattr\u001b[0m\u001b[0;34m(\u001b[0m\u001b[0mb\u001b[0m\u001b[0;34m,\u001b[0m \u001b[0mf\u001b[0m\u001b[0;34m)\u001b[0m\u001b[0;34m(\u001b[0m\u001b[0;34m**\u001b[0m\u001b[0mkwargs\u001b[0m\u001b[0;34m)\u001b[0m\u001b[0;34m\u001b[0m\u001b[0;34m\u001b[0m\u001b[0m\n\u001b[0m\u001b[1;32m    439\u001b[0m             \u001b[0mresult_blocks\u001b[0m \u001b[0;34m=\u001b[0m \u001b[0m_extend_blocks\u001b[0m\u001b[0;34m(\u001b[0m\u001b[0mapplied\u001b[0m\u001b[0;34m,\u001b[0m \u001b[0mresult_blocks\u001b[0m\u001b[0;34m)\u001b[0m\u001b[0;34m\u001b[0m\u001b[0;34m\u001b[0m\u001b[0m\n\u001b[1;32m    440\u001b[0m \u001b[0;34m\u001b[0m\u001b[0m\n",
            "\u001b[0;32m/usr/local/lib/python3.6/dist-packages/pandas/core/internals/blocks.py\u001b[0m in \u001b[0;36mastype\u001b[0;34m(self, dtype, copy, errors, values, **kwargs)\u001b[0m\n\u001b[1;32m    557\u001b[0m \u001b[0;34m\u001b[0m\u001b[0m\n\u001b[1;32m    558\u001b[0m     \u001b[0;32mdef\u001b[0m \u001b[0mastype\u001b[0m\u001b[0;34m(\u001b[0m\u001b[0mself\u001b[0m\u001b[0;34m,\u001b[0m \u001b[0mdtype\u001b[0m\u001b[0;34m,\u001b[0m \u001b[0mcopy\u001b[0m\u001b[0;34m=\u001b[0m\u001b[0;32mFalse\u001b[0m\u001b[0;34m,\u001b[0m \u001b[0merrors\u001b[0m\u001b[0;34m=\u001b[0m\u001b[0;34m\"raise\"\u001b[0m\u001b[0;34m,\u001b[0m \u001b[0mvalues\u001b[0m\u001b[0;34m=\u001b[0m\u001b[0;32mNone\u001b[0m\u001b[0;34m,\u001b[0m \u001b[0;34m**\u001b[0m\u001b[0mkwargs\u001b[0m\u001b[0;34m)\u001b[0m\u001b[0;34m:\u001b[0m\u001b[0;34m\u001b[0m\u001b[0;34m\u001b[0m\u001b[0m\n\u001b[0;32m--> 559\u001b[0;31m         \u001b[0;32mreturn\u001b[0m \u001b[0mself\u001b[0m\u001b[0;34m.\u001b[0m\u001b[0m_astype\u001b[0m\u001b[0;34m(\u001b[0m\u001b[0mdtype\u001b[0m\u001b[0;34m,\u001b[0m \u001b[0mcopy\u001b[0m\u001b[0;34m=\u001b[0m\u001b[0mcopy\u001b[0m\u001b[0;34m,\u001b[0m \u001b[0merrors\u001b[0m\u001b[0;34m=\u001b[0m\u001b[0merrors\u001b[0m\u001b[0;34m,\u001b[0m \u001b[0mvalues\u001b[0m\u001b[0;34m=\u001b[0m\u001b[0mvalues\u001b[0m\u001b[0;34m,\u001b[0m \u001b[0;34m**\u001b[0m\u001b[0mkwargs\u001b[0m\u001b[0;34m)\u001b[0m\u001b[0;34m\u001b[0m\u001b[0;34m\u001b[0m\u001b[0m\n\u001b[0m\u001b[1;32m    560\u001b[0m \u001b[0;34m\u001b[0m\u001b[0m\n\u001b[1;32m    561\u001b[0m     \u001b[0;32mdef\u001b[0m \u001b[0m_astype\u001b[0m\u001b[0;34m(\u001b[0m\u001b[0mself\u001b[0m\u001b[0;34m,\u001b[0m \u001b[0mdtype\u001b[0m\u001b[0;34m,\u001b[0m \u001b[0mcopy\u001b[0m\u001b[0;34m=\u001b[0m\u001b[0;32mFalse\u001b[0m\u001b[0;34m,\u001b[0m \u001b[0merrors\u001b[0m\u001b[0;34m=\u001b[0m\u001b[0;34m\"raise\"\u001b[0m\u001b[0;34m,\u001b[0m \u001b[0mvalues\u001b[0m\u001b[0;34m=\u001b[0m\u001b[0;32mNone\u001b[0m\u001b[0;34m,\u001b[0m \u001b[0;34m**\u001b[0m\u001b[0mkwargs\u001b[0m\u001b[0;34m)\u001b[0m\u001b[0;34m:\u001b[0m\u001b[0;34m\u001b[0m\u001b[0;34m\u001b[0m\u001b[0m\n",
            "\u001b[0;32m/usr/local/lib/python3.6/dist-packages/pandas/core/internals/blocks.py\u001b[0m in \u001b[0;36m_astype\u001b[0;34m(self, dtype, copy, errors, values, **kwargs)\u001b[0m\n\u001b[1;32m    641\u001b[0m                     \u001b[0;31m# _astype_nansafe works fine with 1-d only\u001b[0m\u001b[0;34m\u001b[0m\u001b[0;34m\u001b[0m\u001b[0;34m\u001b[0m\u001b[0m\n\u001b[1;32m    642\u001b[0m                     \u001b[0mvals1d\u001b[0m \u001b[0;34m=\u001b[0m \u001b[0mvalues\u001b[0m\u001b[0;34m.\u001b[0m\u001b[0mravel\u001b[0m\u001b[0;34m(\u001b[0m\u001b[0;34m)\u001b[0m\u001b[0;34m\u001b[0m\u001b[0;34m\u001b[0m\u001b[0m\n\u001b[0;32m--> 643\u001b[0;31m                     \u001b[0mvalues\u001b[0m \u001b[0;34m=\u001b[0m \u001b[0mastype_nansafe\u001b[0m\u001b[0;34m(\u001b[0m\u001b[0mvals1d\u001b[0m\u001b[0;34m,\u001b[0m \u001b[0mdtype\u001b[0m\u001b[0;34m,\u001b[0m \u001b[0mcopy\u001b[0m\u001b[0;34m=\u001b[0m\u001b[0;32mTrue\u001b[0m\u001b[0;34m,\u001b[0m \u001b[0;34m**\u001b[0m\u001b[0mkwargs\u001b[0m\u001b[0;34m)\u001b[0m\u001b[0;34m\u001b[0m\u001b[0;34m\u001b[0m\u001b[0m\n\u001b[0m\u001b[1;32m    644\u001b[0m \u001b[0;34m\u001b[0m\u001b[0m\n\u001b[1;32m    645\u001b[0m                 \u001b[0;31m# TODO(extension)\u001b[0m\u001b[0;34m\u001b[0m\u001b[0;34m\u001b[0m\u001b[0;34m\u001b[0m\u001b[0m\n",
            "\u001b[0;32m/usr/local/lib/python3.6/dist-packages/pandas/core/dtypes/cast.py\u001b[0m in \u001b[0;36mastype_nansafe\u001b[0;34m(arr, dtype, copy, skipna)\u001b[0m\n\u001b[1;32m    727\u001b[0m     \u001b[0;32mif\u001b[0m \u001b[0mcopy\u001b[0m \u001b[0;32mor\u001b[0m \u001b[0mis_object_dtype\u001b[0m\u001b[0;34m(\u001b[0m\u001b[0marr\u001b[0m\u001b[0;34m)\u001b[0m \u001b[0;32mor\u001b[0m \u001b[0mis_object_dtype\u001b[0m\u001b[0;34m(\u001b[0m\u001b[0mdtype\u001b[0m\u001b[0;34m)\u001b[0m\u001b[0;34m:\u001b[0m\u001b[0;34m\u001b[0m\u001b[0;34m\u001b[0m\u001b[0m\n\u001b[1;32m    728\u001b[0m         \u001b[0;31m# Explicit copy, or required since NumPy can't view from / to object.\u001b[0m\u001b[0;34m\u001b[0m\u001b[0;34m\u001b[0m\u001b[0;34m\u001b[0m\u001b[0m\n\u001b[0;32m--> 729\u001b[0;31m         \u001b[0;32mreturn\u001b[0m \u001b[0marr\u001b[0m\u001b[0;34m.\u001b[0m\u001b[0mastype\u001b[0m\u001b[0;34m(\u001b[0m\u001b[0mdtype\u001b[0m\u001b[0;34m,\u001b[0m \u001b[0mcopy\u001b[0m\u001b[0;34m=\u001b[0m\u001b[0;32mTrue\u001b[0m\u001b[0;34m)\u001b[0m\u001b[0;34m\u001b[0m\u001b[0;34m\u001b[0m\u001b[0m\n\u001b[0m\u001b[1;32m    730\u001b[0m \u001b[0;34m\u001b[0m\u001b[0m\n\u001b[1;32m    731\u001b[0m     \u001b[0;32mreturn\u001b[0m \u001b[0marr\u001b[0m\u001b[0;34m.\u001b[0m\u001b[0mview\u001b[0m\u001b[0;34m(\u001b[0m\u001b[0mdtype\u001b[0m\u001b[0;34m)\u001b[0m\u001b[0;34m\u001b[0m\u001b[0;34m\u001b[0m\u001b[0m\n",
            "\u001b[0;31mValueError\u001b[0m: could not convert string to float: 'Na'"
          ]
        }
      ]
    },
    {
      "cell_type": "code",
      "metadata": {
        "id": "RPj2PfQEeMtO",
        "colab_type": "code",
        "colab": {}
      },
      "source": [
        "data = data.replace('Na', np.nan)"
      ],
      "execution_count": 0,
      "outputs": []
    },
    {
      "cell_type": "code",
      "metadata": {
        "id": "rxLaHweBftlA",
        "colab_type": "code",
        "colab": {}
      },
      "source": [
        "data = data.astype({'birth_rate':np.float})"
      ],
      "execution_count": 0,
      "outputs": []
    },
    {
      "cell_type": "code",
      "metadata": {
        "id": "-OFNrXFfcvfn",
        "colab_type": "code",
        "outputId": "960a4407-a4ff-4379-df93-93c4fbee8f8b",
        "colab": {
          "base_uri": "https://localhost:8080/",
          "height": 241
        }
      },
      "source": [
        "data.info() #birth_rate가 숫자형으로 잘 바뀌었음을 확인 가능"
      ],
      "execution_count": 0,
      "outputs": [
        {
          "output_type": "stream",
          "text": [
            "<class 'pandas.core.frame.DataFrame'>\n",
            "RangeIndex: 585 entries, 0 to 584\n",
            "Data columns (total 7 columns):\n",
            "year              583 non-null float64\n",
            "country           585 non-null object\n",
            "country_code      583 non-null object\n",
            "birth_rate        581 non-null float64\n",
            "internet_users    584 non-null float64\n",
            "income_group      578 non-null object\n",
            "dev_index         581 non-null float64\n",
            "dtypes: float64(4), object(3)\n",
            "memory usage: 32.1+ KB\n"
          ],
          "name": "stdout"
        }
      ]
    },
    {
      "cell_type": "markdown",
      "metadata": {
        "id": "t5Dj8oZsgcyM",
        "colab_type": "text"
      },
      "source": [
        "3) data상에서 결측치가 있는지 확인하고, 결측치를 포함하여 분석에서 이용할 수 없는 정보는 삭제"
      ]
    },
    {
      "cell_type": "code",
      "metadata": {
        "id": "ikNtv8UJjXiZ",
        "colab_type": "code",
        "outputId": "8fb2ba4f-6d69-49c3-caaa-1e82718d7624",
        "colab": {
          "base_uri": "https://localhost:8080/",
          "height": 386
        }
      },
      "source": [
        "data.describe(include='all')"
      ],
      "execution_count": 0,
      "outputs": [
        {
          "output_type": "execute_result",
          "data": {
            "text/html": [
              "<div>\n",
              "<style scoped>\n",
              "    .dataframe tbody tr th:only-of-type {\n",
              "        vertical-align: middle;\n",
              "    }\n",
              "\n",
              "    .dataframe tbody tr th {\n",
              "        vertical-align: top;\n",
              "    }\n",
              "\n",
              "    .dataframe thead th {\n",
              "        text-align: right;\n",
              "    }\n",
              "</style>\n",
              "<table border=\"1\" class=\"dataframe\">\n",
              "  <thead>\n",
              "    <tr style=\"text-align: right;\">\n",
              "      <th></th>\n",
              "      <th>year</th>\n",
              "      <th>country</th>\n",
              "      <th>country_code</th>\n",
              "      <th>birth_rate</th>\n",
              "      <th>internet_users</th>\n",
              "      <th>income_group</th>\n",
              "      <th>dev_index</th>\n",
              "    </tr>\n",
              "  </thead>\n",
              "  <tbody>\n",
              "    <tr>\n",
              "      <th>count</th>\n",
              "      <td>583.000000</td>\n",
              "      <td>585</td>\n",
              "      <td>583</td>\n",
              "      <td>581.000000</td>\n",
              "      <td>584.000000</td>\n",
              "      <td>578</td>\n",
              "      <td>581.000000</td>\n",
              "    </tr>\n",
              "    <tr>\n",
              "      <th>unique</th>\n",
              "      <td>NaN</td>\n",
              "      <td>195</td>\n",
              "      <td>195</td>\n",
              "      <td>NaN</td>\n",
              "      <td>NaN</td>\n",
              "      <td>5</td>\n",
              "      <td>NaN</td>\n",
              "    </tr>\n",
              "    <tr>\n",
              "      <th>top</th>\n",
              "      <td>NaN</td>\n",
              "      <td>Burkina Faso</td>\n",
              "      <td>LCA</td>\n",
              "      <td>NaN</td>\n",
              "      <td>NaN</td>\n",
              "      <td>High income</td>\n",
              "      <td>NaN</td>\n",
              "    </tr>\n",
              "    <tr>\n",
              "      <th>freq</th>\n",
              "      <td>NaN</td>\n",
              "      <td>3</td>\n",
              "      <td>3</td>\n",
              "      <td>NaN</td>\n",
              "      <td>NaN</td>\n",
              "      <td>201</td>\n",
              "      <td>NaN</td>\n",
              "    </tr>\n",
              "    <tr>\n",
              "      <th>mean</th>\n",
              "      <td>2008.998285</td>\n",
              "      <td>NaN</td>\n",
              "      <td>NaN</td>\n",
              "      <td>21.889296</td>\n",
              "      <td>47.107424</td>\n",
              "      <td>NaN</td>\n",
              "      <td>1.616423</td>\n",
              "    </tr>\n",
              "    <tr>\n",
              "      <th>std</th>\n",
              "      <td>0.817546</td>\n",
              "      <td>NaN</td>\n",
              "      <td>NaN</td>\n",
              "      <td>13.474637</td>\n",
              "      <td>29.694105</td>\n",
              "      <td>NaN</td>\n",
              "      <td>11.796705</td>\n",
              "    </tr>\n",
              "    <tr>\n",
              "      <th>min</th>\n",
              "      <td>2008.000000</td>\n",
              "      <td>NaN</td>\n",
              "      <td>NaN</td>\n",
              "      <td>-8.778000</td>\n",
              "      <td>0.900000</td>\n",
              "      <td>NaN</td>\n",
              "      <td>-198.358825</td>\n",
              "    </tr>\n",
              "    <tr>\n",
              "      <th>25%</th>\n",
              "      <td>2008.000000</td>\n",
              "      <td>NaN</td>\n",
              "      <td>NaN</td>\n",
              "      <td>11.616000</td>\n",
              "      <td>19.650000</td>\n",
              "      <td>NaN</td>\n",
              "      <td>1.471071</td>\n",
              "    </tr>\n",
              "    <tr>\n",
              "      <th>50%</th>\n",
              "      <td>2009.000000</td>\n",
              "      <td>NaN</td>\n",
              "      <td>NaN</td>\n",
              "      <td>20.419000</td>\n",
              "      <td>45.800000</td>\n",
              "      <td>NaN</td>\n",
              "      <td>2.240740</td>\n",
              "    </tr>\n",
              "    <tr>\n",
              "      <th>75%</th>\n",
              "      <td>2010.000000</td>\n",
              "      <td>NaN</td>\n",
              "      <td>NaN</td>\n",
              "      <td>30.578000</td>\n",
              "      <td>71.850000</td>\n",
              "      <td>NaN</td>\n",
              "      <td>3.019890</td>\n",
              "    </tr>\n",
              "    <tr>\n",
              "      <th>max</th>\n",
              "      <td>2010.000000</td>\n",
              "      <td>NaN</td>\n",
              "      <td>NaN</td>\n",
              "      <td>66.525000</td>\n",
              "      <td>111.783600</td>\n",
              "      <td>NaN</td>\n",
              "      <td>4.338328</td>\n",
              "    </tr>\n",
              "  </tbody>\n",
              "</table>\n",
              "</div>"
            ],
            "text/plain": [
              "               year       country  ... income_group   dev_index\n",
              "count    583.000000           585  ...          578  581.000000\n",
              "unique          NaN           195  ...            5         NaN\n",
              "top             NaN  Burkina Faso  ...  High income         NaN\n",
              "freq            NaN             3  ...          201         NaN\n",
              "mean    2008.998285           NaN  ...          NaN    1.616423\n",
              "std        0.817546           NaN  ...          NaN   11.796705\n",
              "min     2008.000000           NaN  ...          NaN -198.358825\n",
              "25%     2008.000000           NaN  ...          NaN    1.471071\n",
              "50%     2009.000000           NaN  ...          NaN    2.240740\n",
              "75%     2010.000000           NaN  ...          NaN    3.019890\n",
              "max     2010.000000           NaN  ...          NaN    4.338328\n",
              "\n",
              "[11 rows x 7 columns]"
            ]
          },
          "metadata": {
            "tags": []
          },
          "execution_count": 36
        }
      ]
    },
    {
      "cell_type": "code",
      "metadata": {
        "id": "iH4XJ31Vg2J7",
        "colab_type": "code",
        "outputId": "e9897689-4347-4c6a-c542-71506d27f2c0",
        "colab": {
          "base_uri": "https://localhost:8080/",
          "height": 1000
        }
      },
      "source": [
        "sorted(data['country'].unique())"
      ],
      "execution_count": 0,
      "outputs": [
        {
          "output_type": "execute_result",
          "data": {
            "text/plain": [
              "['Afghanistan',\n",
              " 'Albania',\n",
              " 'Algeria',\n",
              " 'Angola',\n",
              " 'Antigua and Barbuda',\n",
              " 'Argentina',\n",
              " 'Armenia',\n",
              " 'Aruba',\n",
              " 'Australia',\n",
              " 'Austria',\n",
              " 'Azerbaijan',\n",
              " 'Bahamas, The',\n",
              " 'Bahrain',\n",
              " 'Bangladesh',\n",
              " 'Barbados',\n",
              " 'Belarus',\n",
              " 'Belgium',\n",
              " 'Belize',\n",
              " 'Benin',\n",
              " 'Bermuda',\n",
              " 'Bhutan',\n",
              " 'Bolivia',\n",
              " 'Bosnia and Herzegovina',\n",
              " 'Botswana',\n",
              " 'Brazil',\n",
              " 'Brunei Darussalam',\n",
              " 'Bulgaria',\n",
              " 'Burkina Faso',\n",
              " 'Burundi',\n",
              " 'Cabo Verde',\n",
              " 'Cambodia',\n",
              " 'Cameroon',\n",
              " 'Canada',\n",
              " 'Cayman Islands',\n",
              " 'Central African Republic',\n",
              " 'Chad',\n",
              " 'Chile',\n",
              " 'China',\n",
              " 'Colombia',\n",
              " 'Comoros',\n",
              " 'Congo, Dem. Rep.',\n",
              " 'Congo, Rep.',\n",
              " 'Costa Rica',\n",
              " \"Cote d'Ivoire\",\n",
              " 'Croatia',\n",
              " 'Cuba',\n",
              " 'Cyprus',\n",
              " 'Czech Republic',\n",
              " 'Denmark',\n",
              " 'Djibouti',\n",
              " 'Dominican Republic',\n",
              " 'Ecuador',\n",
              " 'Egypt, Arab Rep.',\n",
              " 'El Salvador',\n",
              " 'Equatorial Guinea',\n",
              " 'Eritrea',\n",
              " 'Estonia',\n",
              " 'Ethiopia',\n",
              " 'Fiji',\n",
              " 'Finland',\n",
              " 'France',\n",
              " 'French Polynesia',\n",
              " 'Gabon',\n",
              " 'Gambia, The',\n",
              " 'Georgia',\n",
              " 'Germany',\n",
              " 'Ghana',\n",
              " 'Greece',\n",
              " 'Greenland',\n",
              " 'Grenada',\n",
              " 'Guam',\n",
              " 'Guatemala',\n",
              " 'Guinea',\n",
              " 'Guinea-Bissau',\n",
              " 'Guyana',\n",
              " 'Haiti',\n",
              " 'Honduras',\n",
              " 'Hong Kong SAR, China',\n",
              " 'Hungary',\n",
              " 'Iceland',\n",
              " 'India',\n",
              " 'Indonesia',\n",
              " 'Iran, Islamic Rep.',\n",
              " 'Iraq',\n",
              " 'Ireland',\n",
              " 'Israel',\n",
              " 'Italy',\n",
              " 'Jamaica',\n",
              " 'Japan',\n",
              " 'Jordan',\n",
              " 'Kazakhstan',\n",
              " 'Kenya',\n",
              " 'Kiribati',\n",
              " 'Korea, Rep.',\n",
              " 'Kuwait',\n",
              " 'Kyrgyz Republic',\n",
              " 'Lao PDR',\n",
              " 'Latvia',\n",
              " 'Lebanon',\n",
              " 'Lesotho',\n",
              " 'Liberia',\n",
              " 'Libya',\n",
              " 'Liechtenstein',\n",
              " 'Lithuania',\n",
              " 'Luxembourg',\n",
              " 'Macao SAR, China',\n",
              " 'Macedonia, FYR',\n",
              " 'Madagascar',\n",
              " 'Malawi',\n",
              " 'Malaysia',\n",
              " 'Maldives',\n",
              " 'Mali',\n",
              " 'Malta',\n",
              " 'Mauritania',\n",
              " 'Mauritius',\n",
              " 'Mexico',\n",
              " 'Micronesia, Fed. Sts.',\n",
              " 'Moldova',\n",
              " 'Mongolia',\n",
              " 'Montenegro',\n",
              " 'Morocco',\n",
              " 'Mozambique',\n",
              " 'Myanmar',\n",
              " 'Namibia',\n",
              " 'Nepal',\n",
              " 'Netherlands',\n",
              " 'New Caledonia',\n",
              " 'New Zealand',\n",
              " 'Nicaragua',\n",
              " 'Niger',\n",
              " 'Nigeria',\n",
              " 'Norway',\n",
              " 'Oman',\n",
              " 'Pakistan',\n",
              " 'Panama',\n",
              " 'Papua New Guinea',\n",
              " 'Paraguay',\n",
              " 'Peru',\n",
              " 'Philippines',\n",
              " 'Poland',\n",
              " 'Portugal',\n",
              " 'Puerto Rico',\n",
              " 'Qatar',\n",
              " 'Romania',\n",
              " 'Russian Federation',\n",
              " 'Rwanda',\n",
              " 'Samoa',\n",
              " 'Sao Tome and Principe',\n",
              " 'Saudi Arabia',\n",
              " 'Senegal',\n",
              " 'Serbia',\n",
              " 'Seychelles',\n",
              " 'Sierra Leone',\n",
              " 'Singapore',\n",
              " 'Slovak Republic',\n",
              " 'Slovenia',\n",
              " 'Solomon Islands',\n",
              " 'Somalia',\n",
              " 'South Africa',\n",
              " 'South Sudan',\n",
              " 'Spain',\n",
              " 'Sri Lanka',\n",
              " 'St. Lucia',\n",
              " 'St. Vincent and the Grenadines',\n",
              " 'Sudan',\n",
              " 'Suriname',\n",
              " 'Swaziland',\n",
              " 'Sweden',\n",
              " 'Switzerland',\n",
              " 'Syrian Arab Republic',\n",
              " 'Tajikistan',\n",
              " 'Tanzania',\n",
              " 'Thailand',\n",
              " 'Timor-Leste',\n",
              " 'Togo',\n",
              " 'Tonga',\n",
              " 'Trinidad and Tobago',\n",
              " 'Tunisia',\n",
              " 'Turkey',\n",
              " 'Turkmenistan',\n",
              " 'Uganda',\n",
              " 'Ukraine',\n",
              " 'United Arab Emirates',\n",
              " 'United Kingdom',\n",
              " 'United States',\n",
              " 'Uruguay',\n",
              " 'Uzbekistan',\n",
              " 'Vanuatu',\n",
              " 'Venezuela, RB',\n",
              " 'Vietnam',\n",
              " 'Virgin Islands (U.S.)',\n",
              " 'West Bank and Gaza',\n",
              " 'Yemen, Rep.',\n",
              " 'Zambia',\n",
              " 'Zimbabwe']"
            ]
          },
          "metadata": {
            "tags": []
          },
          "execution_count": 37
        }
      ]
    },
    {
      "cell_type": "markdown",
      "metadata": {
        "id": "XsDnTu3eTTze",
        "colab_type": "text"
      },
      "source": [
        "country와 country_code가 담고 있는 정보가 겹치고, country의 결측치가 비교적 적어보이므로 country_code column을 삭제함"
      ]
    },
    {
      "cell_type": "code",
      "metadata": {
        "id": "PMSY6eM2iIsm",
        "colab_type": "code",
        "colab": {}
      },
      "source": [
        "data.drop('country_code', axis=1, inplace=True)"
      ],
      "execution_count": 0,
      "outputs": []
    },
    {
      "cell_type": "code",
      "metadata": {
        "id": "gzoNOUCUjLJb",
        "colab_type": "code",
        "colab": {}
      },
      "source": [
        "data = data.dropna()\n",
        "data.reset_index(drop=True, inplace=True)"
      ],
      "execution_count": 0,
      "outputs": []
    },
    {
      "cell_type": "code",
      "metadata": {
        "id": "ZwznuoHqSEpQ",
        "colab_type": "code",
        "outputId": "870b22b7-d86a-4f9e-e950-0f224f5d5ede",
        "colab": {
          "base_uri": "https://localhost:8080/",
          "height": 148
        }
      },
      "source": [
        "data.isnull().sum()"
      ],
      "execution_count": 0,
      "outputs": [
        {
          "output_type": "execute_result",
          "data": {
            "text/plain": [
              "year              0\n",
              "country           0\n",
              "birth_rate        0\n",
              "internet_users    0\n",
              "income_group      0\n",
              "dev_index         0\n",
              "dtype: int64"
            ]
          },
          "metadata": {
            "tags": []
          },
          "execution_count": 40
        }
      ]
    },
    {
      "cell_type": "code",
      "metadata": {
        "id": "X9wIyCIEXcTa",
        "colab_type": "code",
        "colab": {}
      },
      "source": [
        "data = data.astype({'year' : np.int}) #year에 소수점 붙어있는 게 거슬리니까 겸사겸사 data type integer로 바꿔줌"
      ],
      "execution_count": 0,
      "outputs": []
    },
    {
      "cell_type": "markdown",
      "metadata": {
        "id": "6tbfDSiugihg",
        "colab_type": "text"
      },
      "source": [
        "4) data에서 변수별 특이값을 찾고, 제거\n",
        "(Hint: birth rate는 항상 양수여야 하고, Internet_user비율은 0~100사이어야 한다.)"
      ]
    },
    {
      "cell_type": "code",
      "metadata": {
        "id": "9H9x2-Ocx6OK",
        "colab_type": "code",
        "outputId": "640cb3cc-cbdf-45a1-9286-6a3606c8b5c6",
        "colab": {
          "base_uri": "https://localhost:8080/",
          "height": 111
        }
      },
      "source": [
        "data.groupby(data['year'])['country'].count()"
      ],
      "execution_count": 0,
      "outputs": [
        {
          "output_type": "execute_result",
          "data": {
            "text/plain": [
              "year\n",
              "2008    188\n",
              "2009    190\n",
              "2010    191\n",
              "Name: country, dtype: int64"
            ]
          },
          "metadata": {
            "tags": []
          },
          "execution_count": 42
        }
      ]
    },
    {
      "cell_type": "code",
      "metadata": {
        "id": "7lc-sK8xyPoV",
        "colab_type": "code",
        "outputId": "471c0d8a-dee4-47d9-856c-195ef054ba05",
        "colab": {
          "base_uri": "https://localhost:8080/",
          "height": 355
        }
      },
      "source": [
        "data.groupby(data['country'])['year'].count().reset_index(name='count').sort_values(['count'], ascending=True).head(10)"
      ],
      "execution_count": 0,
      "outputs": [
        {
          "output_type": "execute_result",
          "data": {
            "text/html": [
              "<div>\n",
              "<style scoped>\n",
              "    .dataframe tbody tr th:only-of-type {\n",
              "        vertical-align: middle;\n",
              "    }\n",
              "\n",
              "    .dataframe tbody tr th {\n",
              "        vertical-align: top;\n",
              "    }\n",
              "\n",
              "    .dataframe thead th {\n",
              "        text-align: right;\n",
              "    }\n",
              "</style>\n",
              "<table border=\"1\" class=\"dataframe\">\n",
              "  <thead>\n",
              "    <tr style=\"text-align: right;\">\n",
              "      <th></th>\n",
              "      <th>country</th>\n",
              "      <th>count</th>\n",
              "    </tr>\n",
              "  </thead>\n",
              "  <tbody>\n",
              "    <tr>\n",
              "      <th>0</th>\n",
              "      <td>Afghanistan</td>\n",
              "      <td>2</td>\n",
              "    </tr>\n",
              "    <tr>\n",
              "      <th>61</th>\n",
              "      <td>French Polynesia</td>\n",
              "      <td>2</td>\n",
              "    </tr>\n",
              "    <tr>\n",
              "      <th>152</th>\n",
              "      <td>Sierra Leone</td>\n",
              "      <td>2</td>\n",
              "    </tr>\n",
              "    <tr>\n",
              "      <th>46</th>\n",
              "      <td>Cyprus</td>\n",
              "      <td>2</td>\n",
              "    </tr>\n",
              "    <tr>\n",
              "      <th>38</th>\n",
              "      <td>Colombia</td>\n",
              "      <td>2</td>\n",
              "    </tr>\n",
              "    <tr>\n",
              "      <th>76</th>\n",
              "      <td>Honduras</td>\n",
              "      <td>2</td>\n",
              "    </tr>\n",
              "    <tr>\n",
              "      <th>170</th>\n",
              "      <td>Tajikistan</td>\n",
              "      <td>2</td>\n",
              "    </tr>\n",
              "    <tr>\n",
              "      <th>172</th>\n",
              "      <td>Thailand</td>\n",
              "      <td>2</td>\n",
              "    </tr>\n",
              "    <tr>\n",
              "      <th>23</th>\n",
              "      <td>Botswana</td>\n",
              "      <td>2</td>\n",
              "    </tr>\n",
              "    <tr>\n",
              "      <th>117</th>\n",
              "      <td>Moldova</td>\n",
              "      <td>2</td>\n",
              "    </tr>\n",
              "  </tbody>\n",
              "</table>\n",
              "</div>"
            ],
            "text/plain": [
              "              country  count\n",
              "0         Afghanistan      2\n",
              "61   French Polynesia      2\n",
              "152      Sierra Leone      2\n",
              "46             Cyprus      2\n",
              "38           Colombia      2\n",
              "76           Honduras      2\n",
              "170        Tajikistan      2\n",
              "172          Thailand      2\n",
              "23           Botswana      2\n",
              "117           Moldova      2"
            ]
          },
          "metadata": {
            "tags": []
          },
          "execution_count": 43
        }
      ]
    },
    {
      "cell_type": "markdown",
      "metadata": {
        "id": "I9T3fKvEXz7z",
        "colab_type": "text"
      },
      "source": [
        "모든 나라가 2008-2010 연도별 데이터를 가지고 있는지 보려고 했는데 별로 의미는 없는 것 같음"
      ]
    },
    {
      "cell_type": "code",
      "metadata": {
        "id": "jINTaLbVYCra",
        "colab_type": "code",
        "outputId": "138b82df-3f59-4778-c392-b163ed21da69",
        "colab": {
          "base_uri": "https://localhost:8080/",
          "height": 419
        }
      },
      "source": [
        "plt.boxplot(data['birth_rate']) #음수값이 있네?"
      ],
      "execution_count": 0,
      "outputs": [
        {
          "output_type": "execute_result",
          "data": {
            "text/plain": [
              "{'boxes': [<matplotlib.lines.Line2D at 0x7f266368c390>],\n",
              " 'caps': [<matplotlib.lines.Line2D at 0x7f266368e588>,\n",
              "  <matplotlib.lines.Line2D at 0x7f266368e358>],\n",
              " 'fliers': [<matplotlib.lines.Line2D at 0x7f2663690cf8>],\n",
              " 'means': [],\n",
              " 'medians': [<matplotlib.lines.Line2D at 0x7f2663690320>],\n",
              " 'whiskers': [<matplotlib.lines.Line2D at 0x7f266368cd68>,\n",
              "  <matplotlib.lines.Line2D at 0x7f266368ed68>]}"
            ]
          },
          "metadata": {
            "tags": []
          },
          "execution_count": 44
        },
        {
          "output_type": "display_data",
          "data": {
            "image/png": "[encoded data removed]",
            "text/plain": [
              "<Figure size 432x288 with 1 Axes>"
            ]
          },
          "metadata": {
            "tags": []
          }
        }
      ]
    },
    {
      "cell_type": "code",
      "metadata": {
        "id": "hPwv9tTXuAf9",
        "colab_type": "code",
        "outputId": "415f4bfb-cd31-41af-e1f6-7d1d2ed185d3",
        "colab": {
          "base_uri": "https://localhost:8080/",
          "height": 785
        }
      },
      "source": [
        "data[data['birth_rate']<=0]"
      ],
      "execution_count": 0,
      "outputs": [
        {
          "output_type": "execute_result",
          "data": {
            "text/html": [
              "<div>\n",
              "<style scoped>\n",
              "    .dataframe tbody tr th:only-of-type {\n",
              "        vertical-align: middle;\n",
              "    }\n",
              "\n",
              "    .dataframe tbody tr th {\n",
              "        vertical-align: top;\n",
              "    }\n",
              "\n",
              "    .dataframe thead th {\n",
              "        text-align: right;\n",
              "    }\n",
              "</style>\n",
              "<table border=\"1\" class=\"dataframe\">\n",
              "  <thead>\n",
              "    <tr style=\"text-align: right;\">\n",
              "      <th></th>\n",
              "      <th>year</th>\n",
              "      <th>country</th>\n",
              "      <th>birth_rate</th>\n",
              "      <th>internet_users</th>\n",
              "      <th>income_group</th>\n",
              "      <th>dev_index</th>\n",
              "    </tr>\n",
              "  </thead>\n",
              "  <tbody>\n",
              "    <tr>\n",
              "      <th>204</th>\n",
              "      <td>2010</td>\n",
              "      <td>Algeria</td>\n",
              "      <td>-5.262</td>\n",
              "      <td>30.5000</td>\n",
              "      <td>Upper middle income</td>\n",
              "      <td>1.923682</td>\n",
              "    </tr>\n",
              "    <tr>\n",
              "      <th>251</th>\n",
              "      <td>2009</td>\n",
              "      <td>Mauritius</td>\n",
              "      <td>-0.100</td>\n",
              "      <td>40.0000</td>\n",
              "      <td>Upper middle income</td>\n",
              "      <td>2.100165</td>\n",
              "    </tr>\n",
              "    <tr>\n",
              "      <th>260</th>\n",
              "      <td>2010</td>\n",
              "      <td>Tonga</td>\n",
              "      <td>-0.591</td>\n",
              "      <td>41.0000</td>\n",
              "      <td>Upper middle income</td>\n",
              "      <td>2.230975</td>\n",
              "    </tr>\n",
              "    <tr>\n",
              "      <th>327</th>\n",
              "      <td>2010</td>\n",
              "      <td>Georgia</td>\n",
              "      <td>-4.668</td>\n",
              "      <td>52.3000</td>\n",
              "      <td>Lower middle income</td>\n",
              "      <td>2.576702</td>\n",
              "    </tr>\n",
              "    <tr>\n",
              "      <th>360</th>\n",
              "      <td>2009</td>\n",
              "      <td>Italy</td>\n",
              "      <td>-0.500</td>\n",
              "      <td>60.4593</td>\n",
              "      <td>High income</td>\n",
              "      <td>2.764604</td>\n",
              "    </tr>\n",
              "    <tr>\n",
              "      <th>371</th>\n",
              "      <td>2010</td>\n",
              "      <td>Portugal</td>\n",
              "      <td>-1.100</td>\n",
              "      <td>62.0956</td>\n",
              "      <td>High income</td>\n",
              "      <td>2.864683</td>\n",
              "    </tr>\n",
              "    <tr>\n",
              "      <th>396</th>\n",
              "      <td>2010</td>\n",
              "      <td>Macedonia, FYR</td>\n",
              "      <td>-8.778</td>\n",
              "      <td>66.2400</td>\n",
              "      <td>High income</td>\n",
              "      <td>3.001684</td>\n",
              "    </tr>\n",
              "    <tr>\n",
              "      <th>405</th>\n",
              "      <td>2010</td>\n",
              "      <td>Seychelles</td>\n",
              "      <td>-2.400</td>\n",
              "      <td>67.4000</td>\n",
              "      <td>High income</td>\n",
              "      <td>3.025960</td>\n",
              "    </tr>\n",
              "    <tr>\n",
              "      <th>430</th>\n",
              "      <td>2009</td>\n",
              "      <td>Croatia</td>\n",
              "      <td>-5.600</td>\n",
              "      <td>72.7476</td>\n",
              "      <td>High income</td>\n",
              "      <td>3.091668</td>\n",
              "    </tr>\n",
              "    <tr>\n",
              "      <th>447</th>\n",
              "      <td>2009</td>\n",
              "      <td>Latvia</td>\n",
              "      <td>-1.800</td>\n",
              "      <td>75.2344</td>\n",
              "      <td>High income</td>\n",
              "      <td>3.160002</td>\n",
              "    </tr>\n",
              "    <tr>\n",
              "      <th>452</th>\n",
              "      <td>2010</td>\n",
              "      <td>New Caledonia</td>\n",
              "      <td>-1.000</td>\n",
              "      <td>76.0000</td>\n",
              "      <td>High income</td>\n",
              "      <td>3.331650</td>\n",
              "    </tr>\n",
              "    <tr>\n",
              "      <th>458</th>\n",
              "      <td>2009</td>\n",
              "      <td>Cayman Islands</td>\n",
              "      <td>-1.500</td>\n",
              "      <td>79.1000</td>\n",
              "      <td>High income</td>\n",
              "      <td>3.275475</td>\n",
              "    </tr>\n",
              "    <tr>\n",
              "      <th>473</th>\n",
              "      <td>2009</td>\n",
              "      <td>Spain</td>\n",
              "      <td>-1.900</td>\n",
              "      <td>81.6350</td>\n",
              "      <td>High income</td>\n",
              "      <td>3.352185</td>\n",
              "    </tr>\n",
              "    <tr>\n",
              "      <th>479</th>\n",
              "      <td>2010</td>\n",
              "      <td>Antigua and Barbuda</td>\n",
              "      <td>-0.553</td>\n",
              "      <td>82.4000</td>\n",
              "      <td>High income</td>\n",
              "      <td>3.522912</td>\n",
              "    </tr>\n",
              "    <tr>\n",
              "      <th>494</th>\n",
              "      <td>2009</td>\n",
              "      <td>Germany</td>\n",
              "      <td>-3.500</td>\n",
              "      <td>85.1700</td>\n",
              "      <td>High income</td>\n",
              "      <td>3.460875</td>\n",
              "    </tr>\n",
              "    <tr>\n",
              "      <th>500</th>\n",
              "      <td>2009</td>\n",
              "      <td>Slovak Republic</td>\n",
              "      <td>-1.900</td>\n",
              "      <td>87.8826</td>\n",
              "      <td>High income</td>\n",
              "      <td>3.539613</td>\n",
              "    </tr>\n",
              "    <tr>\n",
              "      <th>505</th>\n",
              "      <td>2009</td>\n",
              "      <td>Qatar</td>\n",
              "      <td>-0.060</td>\n",
              "      <td>88.3000</td>\n",
              "      <td>High income</td>\n",
              "      <td>3.599099</td>\n",
              "    </tr>\n",
              "    <tr>\n",
              "      <th>507</th>\n",
              "      <td>2010</td>\n",
              "      <td>Hungary</td>\n",
              "      <td>-0.800</td>\n",
              "      <td>88.6439</td>\n",
              "      <td>High income</td>\n",
              "      <td>3.710637</td>\n",
              "    </tr>\n",
              "    <tr>\n",
              "      <th>509</th>\n",
              "      <td>2009</td>\n",
              "      <td>France</td>\n",
              "      <td>-1.700</td>\n",
              "      <td>88.9198</td>\n",
              "      <td>High income</td>\n",
              "      <td>3.570399</td>\n",
              "    </tr>\n",
              "    <tr>\n",
              "      <th>512</th>\n",
              "      <td>2010</td>\n",
              "      <td>Spain</td>\n",
              "      <td>-3.900</td>\n",
              "      <td>89.6350</td>\n",
              "      <td>High income</td>\n",
              "      <td>3.695485</td>\n",
              "    </tr>\n",
              "    <tr>\n",
              "      <th>525</th>\n",
              "      <td>2010</td>\n",
              "      <td>Germany</td>\n",
              "      <td>-3.500</td>\n",
              "      <td>92.1700</td>\n",
              "      <td>High income</td>\n",
              "      <td>3.820875</td>\n",
              "    </tr>\n",
              "    <tr>\n",
              "      <th>536</th>\n",
              "      <td>2009</td>\n",
              "      <td>Korea, Rep.</td>\n",
              "      <td>-4.400</td>\n",
              "      <td>94.7700</td>\n",
              "      <td>High income</td>\n",
              "      <td>3.800360</td>\n",
              "    </tr>\n",
              "    <tr>\n",
              "      <th>554</th>\n",
              "      <td>2009</td>\n",
              "      <td>Denmark</td>\n",
              "      <td>-1.000</td>\n",
              "      <td>101.6297</td>\n",
              "      <td>High income</td>\n",
              "      <td>4.000541</td>\n",
              "    </tr>\n",
              "    <tr>\n",
              "      <th>567</th>\n",
              "      <td>2010</td>\n",
              "      <td>Denmark</td>\n",
              "      <td>0.000</td>\n",
              "      <td>110.6297</td>\n",
              "      <td>High income</td>\n",
              "      <td>4.318891</td>\n",
              "    </tr>\n",
              "  </tbody>\n",
              "</table>\n",
              "</div>"
            ],
            "text/plain": [
              "     year              country  ...         income_group  dev_index\n",
              "204  2010              Algeria  ...  Upper middle income   1.923682\n",
              "251  2009            Mauritius  ...  Upper middle income   2.100165\n",
              "260  2010                Tonga  ...  Upper middle income   2.230975\n",
              "327  2010              Georgia  ...  Lower middle income   2.576702\n",
              "360  2009                Italy  ...          High income   2.764604\n",
              "371  2010             Portugal  ...          High income   2.864683\n",
              "396  2010       Macedonia, FYR  ...          High income   3.001684\n",
              "405  2010           Seychelles  ...          High income   3.025960\n",
              "430  2009              Croatia  ...          High income   3.091668\n",
              "447  2009               Latvia  ...          High income   3.160002\n",
              "452  2010        New Caledonia  ...          High income   3.331650\n",
              "458  2009       Cayman Islands  ...          High income   3.275475\n",
              "473  2009                Spain  ...          High income   3.352185\n",
              "479  2010  Antigua and Barbuda  ...          High income   3.522912\n",
              "494  2009              Germany  ...          High income   3.460875\n",
              "500  2009      Slovak Republic  ...          High income   3.539613\n",
              "505  2009                Qatar  ...          High income   3.599099\n",
              "507  2010              Hungary  ...          High income   3.710637\n",
              "509  2009               France  ...          High income   3.570399\n",
              "512  2010                Spain  ...          High income   3.695485\n",
              "525  2010              Germany  ...          High income   3.820875\n",
              "536  2009          Korea, Rep.  ...          High income   3.800360\n",
              "554  2009              Denmark  ...          High income   4.000541\n",
              "567  2010              Denmark  ...          High income   4.318891\n",
              "\n",
              "[24 rows x 6 columns]"
            ]
          },
          "metadata": {
            "tags": []
          },
          "execution_count": 45
        }
      ]
    },
    {
      "cell_type": "code",
      "metadata": {
        "id": "m356RfBounZg",
        "colab_type": "code",
        "colab": {}
      },
      "source": [
        "data.drop(data[data.birth_rate<=0].index, inplace=True)"
      ],
      "execution_count": 0,
      "outputs": []
    },
    {
      "cell_type": "code",
      "metadata": {
        "id": "Ai6raRm7nHnk",
        "colab_type": "code",
        "outputId": "6e33f0c9-e18c-4005-9d56-e784f00f1e75",
        "colab": {
          "base_uri": "https://localhost:8080/",
          "height": 415
        }
      },
      "source": [
        "plt.boxplot(data['internet_users']) #100보다 큰 값이 있네?"
      ],
      "execution_count": 0,
      "outputs": [
        {
          "output_type": "execute_result",
          "data": {
            "text/plain": [
              "{'boxes': [<matplotlib.lines.Line2D at 0x7f2663080e80>],\n",
              " 'caps': [<matplotlib.lines.Line2D at 0x7f2663080f98>,\n",
              "  <matplotlib.lines.Line2D at 0x7f26630838d0>],\n",
              " 'fliers': [<matplotlib.lines.Line2D at 0x7f2663083c50>],\n",
              " 'means': [],\n",
              " 'medians': [<matplotlib.lines.Line2D at 0x7f2663083278>],\n",
              " 'whiskers': [<matplotlib.lines.Line2D at 0x7f2663080898>,\n",
              "  <matplotlib.lines.Line2D at 0x7f2663080160>]}"
            ]
          },
          "metadata": {
            "tags": []
          },
          "execution_count": 47
        },
        {
          "output_type": "display_data",
          "data": {
            "image/png": "[encoded data removed]",
            "text/plain": [
              "<Figure size 432x288 with 1 Axes>"
            ]
          },
          "metadata": {
            "tags": []
          }
        }
      ]
    },
    {
      "cell_type": "code",
      "metadata": {
        "id": "6_bef9bI8QCd",
        "colab_type": "code",
        "outputId": "c55bde42-5d83-4d17-9c58-f153bd99c50a",
        "colab": {
          "base_uri": "https://localhost:8080/",
          "height": 509
        }
      },
      "source": [
        "data[data['internet_users']>100]"
      ],
      "execution_count": 0,
      "outputs": [
        {
          "output_type": "execute_result",
          "data": {
            "text/html": [
              "<div>\n",
              "<style scoped>\n",
              "    .dataframe tbody tr th:only-of-type {\n",
              "        vertical-align: middle;\n",
              "    }\n",
              "\n",
              "    .dataframe tbody tr th {\n",
              "        vertical-align: top;\n",
              "    }\n",
              "\n",
              "    .dataframe thead th {\n",
              "        text-align: right;\n",
              "    }\n",
              "</style>\n",
              "<table border=\"1\" class=\"dataframe\">\n",
              "  <thead>\n",
              "    <tr style=\"text-align: right;\">\n",
              "      <th></th>\n",
              "      <th>year</th>\n",
              "      <th>country</th>\n",
              "      <th>birth_rate</th>\n",
              "      <th>internet_users</th>\n",
              "      <th>income_group</th>\n",
              "      <th>dev_index</th>\n",
              "    </tr>\n",
              "  </thead>\n",
              "  <tbody>\n",
              "    <tr>\n",
              "      <th>552</th>\n",
              "      <td>2009</td>\n",
              "      <td>Bermuda</td>\n",
              "      <td>18.4</td>\n",
              "      <td>101.3000</td>\n",
              "      <td>High income</td>\n",
              "      <td>3.908640</td>\n",
              "    </tr>\n",
              "    <tr>\n",
              "      <th>553</th>\n",
              "      <td>2010</td>\n",
              "      <td>Finland</td>\n",
              "      <td>4.7</td>\n",
              "      <td>101.5144</td>\n",
              "      <td>High income</td>\n",
              "      <td>4.037677</td>\n",
              "    </tr>\n",
              "    <tr>\n",
              "      <th>555</th>\n",
              "      <td>2009</td>\n",
              "      <td>Sweden</td>\n",
              "      <td>3.8</td>\n",
              "      <td>101.7836</td>\n",
              "      <td>High income</td>\n",
              "      <td>3.947238</td>\n",
              "    </tr>\n",
              "    <tr>\n",
              "      <th>556</th>\n",
              "      <td>2009</td>\n",
              "      <td>Norway</td>\n",
              "      <td>1.6</td>\n",
              "      <td>102.0534</td>\n",
              "      <td>High income</td>\n",
              "      <td>3.958962</td>\n",
              "    </tr>\n",
              "    <tr>\n",
              "      <th>557</th>\n",
              "      <td>2010</td>\n",
              "      <td>United States</td>\n",
              "      <td>7.5</td>\n",
              "      <td>102.2000</td>\n",
              "      <td>High income</td>\n",
              "      <td>4.053625</td>\n",
              "    </tr>\n",
              "    <tr>\n",
              "      <th>558</th>\n",
              "      <td>2010</td>\n",
              "      <td>Canada</td>\n",
              "      <td>23.9</td>\n",
              "      <td>102.8000</td>\n",
              "      <td>High income</td>\n",
              "      <td>4.094565</td>\n",
              "    </tr>\n",
              "    <tr>\n",
              "      <th>559</th>\n",
              "      <td>2009</td>\n",
              "      <td>Netherlands</td>\n",
              "      <td>20.2</td>\n",
              "      <td>102.9564</td>\n",
              "      <td>High income</td>\n",
              "      <td>3.955362</td>\n",
              "    </tr>\n",
              "    <tr>\n",
              "      <th>560</th>\n",
              "      <td>2009</td>\n",
              "      <td>Iceland</td>\n",
              "      <td>23.4</td>\n",
              "      <td>103.5468</td>\n",
              "      <td>High income</td>\n",
              "      <td>4.017794</td>\n",
              "    </tr>\n",
              "    <tr>\n",
              "      <th>561</th>\n",
              "      <td>2010</td>\n",
              "      <td>Japan</td>\n",
              "      <td>3.2</td>\n",
              "      <td>104.7100</td>\n",
              "      <td>High income</td>\n",
              "      <td>4.136020</td>\n",
              "    </tr>\n",
              "    <tr>\n",
              "      <th>562</th>\n",
              "      <td>2010</td>\n",
              "      <td>Switzerland</td>\n",
              "      <td>19.2</td>\n",
              "      <td>105.3400</td>\n",
              "      <td>High income</td>\n",
              "      <td>4.178520</td>\n",
              "    </tr>\n",
              "    <tr>\n",
              "      <th>563</th>\n",
              "      <td>2010</td>\n",
              "      <td>Iceland</td>\n",
              "      <td>14.4</td>\n",
              "      <td>106.5468</td>\n",
              "      <td>High income</td>\n",
              "      <td>4.222644</td>\n",
              "    </tr>\n",
              "    <tr>\n",
              "      <th>564</th>\n",
              "      <td>2010</td>\n",
              "      <td>Bermuda</td>\n",
              "      <td>17.4</td>\n",
              "      <td>107.3000</td>\n",
              "      <td>High income</td>\n",
              "      <td>4.190290</td>\n",
              "    </tr>\n",
              "    <tr>\n",
              "      <th>565</th>\n",
              "      <td>2010</td>\n",
              "      <td>Norway</td>\n",
              "      <td>16.6</td>\n",
              "      <td>108.0534</td>\n",
              "      <td>hfhwec</td>\n",
              "      <td>4.264212</td>\n",
              "    </tr>\n",
              "    <tr>\n",
              "      <th>566</th>\n",
              "      <td>2010</td>\n",
              "      <td>Netherlands</td>\n",
              "      <td>31.2</td>\n",
              "      <td>108.9564</td>\n",
              "      <td>High income</td>\n",
              "      <td>4.267212</td>\n",
              "    </tr>\n",
              "    <tr>\n",
              "      <th>568</th>\n",
              "      <td>2010</td>\n",
              "      <td>Sweden</td>\n",
              "      <td>9.2</td>\n",
              "      <td>111.7836</td>\n",
              "      <td>High income</td>\n",
              "      <td>4.338328</td>\n",
              "    </tr>\n",
              "  </tbody>\n",
              "</table>\n",
              "</div>"
            ],
            "text/plain": [
              "     year        country  birth_rate  internet_users income_group  dev_index\n",
              "552  2009        Bermuda        18.4        101.3000  High income   3.908640\n",
              "553  2010        Finland         4.7        101.5144  High income   4.037677\n",
              "555  2009         Sweden         3.8        101.7836  High income   3.947238\n",
              "556  2009         Norway         1.6        102.0534  High income   3.958962\n",
              "557  2010  United States         7.5        102.2000  High income   4.053625\n",
              "558  2010         Canada        23.9        102.8000  High income   4.094565\n",
              "559  2009    Netherlands        20.2        102.9564  High income   3.955362\n",
              "560  2009        Iceland        23.4        103.5468  High income   4.017794\n",
              "561  2010          Japan         3.2        104.7100  High income   4.136020\n",
              "562  2010    Switzerland        19.2        105.3400  High income   4.178520\n",
              "563  2010        Iceland        14.4        106.5468  High income   4.222644\n",
              "564  2010        Bermuda        17.4        107.3000  High income   4.190290\n",
              "565  2010         Norway        16.6        108.0534       hfhwec   4.264212\n",
              "566  2010    Netherlands        31.2        108.9564  High income   4.267212\n",
              "568  2010         Sweden         9.2        111.7836  High income   4.338328"
            ]
          },
          "metadata": {
            "tags": []
          },
          "execution_count": 48
        }
      ]
    },
    {
      "cell_type": "code",
      "metadata": {
        "id": "rugsK0IV_ylq",
        "colab_type": "code",
        "colab": {}
      },
      "source": [
        "data.drop(data[data.internet_users>100].index, inplace=True)"
      ],
      "execution_count": 0,
      "outputs": []
    },
    {
      "cell_type": "code",
      "metadata": {
        "id": "w33mkfNT7YLm",
        "colab_type": "code",
        "outputId": "16b29a35-0bd0-4211-cd4c-74a7d99139a7",
        "colab": {
          "base_uri": "https://localhost:8080/",
          "height": 111
        }
      },
      "source": [
        "data['income_group'].value_counts()"
      ],
      "execution_count": 0,
      "outputs": [
        {
          "output_type": "execute_result",
          "data": {
            "text/plain": [
              "High income            166\n",
              "Lower middle income    145\n",
              "Upper middle income    135\n",
              "Low income              84\n",
              "Name: income_group, dtype: int64"
            ]
          },
          "metadata": {
            "tags": []
          },
          "execution_count": 50
        }
      ]
    },
    {
      "cell_type": "code",
      "metadata": {
        "id": "Qt-qeIkInY_Z",
        "colab_type": "code",
        "outputId": "bf22f479-99a4-4015-c994-07e069d54f0f",
        "colab": {
          "base_uri": "https://localhost:8080/",
          "height": 415
        }
      },
      "source": [
        "plt.boxplot(data['dev_index'])"
      ],
      "execution_count": 0,
      "outputs": [
        {
          "output_type": "execute_result",
          "data": {
            "text/plain": [
              "{'boxes': [<matplotlib.lines.Line2D at 0x7f266309ab00>],\n",
              " 'caps': [<matplotlib.lines.Line2D at 0x7f2662b6e4e0>,\n",
              "  <matplotlib.lines.Line2D at 0x7f2662b6e828>],\n",
              " 'fliers': [<matplotlib.lines.Line2D at 0x7f2662b6eeb8>],\n",
              " 'means': [],\n",
              " 'medians': [<matplotlib.lines.Line2D at 0x7f2662b6eb70>],\n",
              " 'whiskers': [<matplotlib.lines.Line2D at 0x7f266309ae10>,\n",
              "  <matplotlib.lines.Line2D at 0x7f2662b6e198>]}"
            ]
          },
          "metadata": {
            "tags": []
          },
          "execution_count": 52
        },
        {
          "output_type": "display_data",
          "data": {
            "image/png": "[encoded data removed]",
            "text/plain": [
              "<Figure size 432x288 with 1 Axes>"
            ]
          },
          "metadata": {
            "tags": []
          }
        }
      ]
    },
    {
      "cell_type": "code",
      "metadata": {
        "id": "Ifcitxi27Bc9",
        "colab_type": "code",
        "outputId": "3f6f2664-a606-479b-9522-0cc55454e33e",
        "colab": {
          "base_uri": "https://localhost:8080/",
          "height": 185
        }
      },
      "source": [
        "data['dev_index'].describe() #대충 0-5 사이의 값임을 알 수 있음"
      ],
      "execution_count": 0,
      "outputs": [
        {
          "output_type": "execute_result",
          "data": {
            "text/plain": [
              "count    530.000000\n",
              "mean       2.211745\n",
              "std        0.868224\n",
              "min        0.766151\n",
              "25%        1.434278\n",
              "50%        2.157288\n",
              "75%        2.941624\n",
              "max        4.016370\n",
              "Name: dev_index, dtype: float64"
            ]
          },
          "metadata": {
            "tags": []
          },
          "execution_count": 51
        }
      ]
    },
    {
      "cell_type": "code",
      "metadata": {
        "id": "zNJ7tnG1Fcnc",
        "colab_type": "code",
        "outputId": "4aeab247-c2e9-4c15-a320-68b070c81f38",
        "colab": {
          "base_uri": "https://localhost:8080/",
          "height": 284
        }
      },
      "source": [
        "data['dev_index'].hist()"
      ],
      "execution_count": 0,
      "outputs": [
        {
          "output_type": "execute_result",
          "data": {
            "text/plain": [
              "<matplotlib.axes._subplots.AxesSubplot at 0x7f266309ab38>"
            ]
          },
          "metadata": {
            "tags": []
          },
          "execution_count": 53
        },
        {
          "output_type": "display_data",
          "data": {
            "image/png": "[encoded data removed]",
            "text/plain": [
              "<Figure size 432x288 with 1 Axes>"
            ]
          },
          "metadata": {
            "tags": []
          }
        }
      ]
    },
    {
      "cell_type": "markdown",
      "metadata": {
        "id": "wzmHMivpgls-",
        "colab_type": "text"
      },
      "source": [
        "5) 클리닝이 완료된 data를 이용하여 각 연도별 Income_group으로 표본 분포가 어떻게 되어있는지를 bar-graph로 파악하고,\n",
        "연도 및 income_group별 Birth rate와 internet users의 평균을 살펴보기"
      ]
    },
    {
      "cell_type": "code",
      "metadata": {
        "id": "CPhmPvsPguNy",
        "colab_type": "code",
        "outputId": "a2ac4350-5cad-43c9-a0af-46246b95aab6",
        "colab": {
          "base_uri": "https://localhost:8080/",
          "height": 171
        }
      },
      "source": [
        "grouped = pd.crosstab(data.year, data.income_group)\n",
        "grouped"
      ],
      "execution_count": 0,
      "outputs": [
        {
          "output_type": "execute_result",
          "data": {
            "text/html": [
              "<div>\n",
              "<style scoped>\n",
              "    .dataframe tbody tr th:only-of-type {\n",
              "        vertical-align: middle;\n",
              "    }\n",
              "\n",
              "    .dataframe tbody tr th {\n",
              "        vertical-align: top;\n",
              "    }\n",
              "\n",
              "    .dataframe thead th {\n",
              "        text-align: right;\n",
              "    }\n",
              "</style>\n",
              "<table border=\"1\" class=\"dataframe\">\n",
              "  <thead>\n",
              "    <tr style=\"text-align: right;\">\n",
              "      <th>income_group</th>\n",
              "      <th>High income</th>\n",
              "      <th>Low income</th>\n",
              "      <th>Lower middle income</th>\n",
              "      <th>Upper middle income</th>\n",
              "    </tr>\n",
              "    <tr>\n",
              "      <th>year</th>\n",
              "      <th></th>\n",
              "      <th></th>\n",
              "      <th></th>\n",
              "      <th></th>\n",
              "    </tr>\n",
              "  </thead>\n",
              "  <tbody>\n",
              "    <tr>\n",
              "      <th>2008</th>\n",
              "      <td>66</td>\n",
              "      <td>27</td>\n",
              "      <td>49</td>\n",
              "      <td>46</td>\n",
              "    </tr>\n",
              "    <tr>\n",
              "      <th>2009</th>\n",
              "      <td>50</td>\n",
              "      <td>28</td>\n",
              "      <td>51</td>\n",
              "      <td>44</td>\n",
              "    </tr>\n",
              "    <tr>\n",
              "      <th>2010</th>\n",
              "      <td>50</td>\n",
              "      <td>29</td>\n",
              "      <td>45</td>\n",
              "      <td>45</td>\n",
              "    </tr>\n",
              "  </tbody>\n",
              "</table>\n",
              "</div>"
            ],
            "text/plain": [
              "income_group  High income  Low income  Lower middle income  Upper middle income\n",
              "year                                                                           \n",
              "2008                   66          27                   49                   46\n",
              "2009                   50          28                   51                   44\n",
              "2010                   50          29                   45                   45"
            ]
          },
          "metadata": {
            "tags": []
          },
          "execution_count": 54
        }
      ]
    },
    {
      "cell_type": "code",
      "metadata": {
        "id": "-KiQWNhZIjdp",
        "colab_type": "code",
        "outputId": "2b90085c-d9b2-4dd3-ccf0-7ce16912c91d",
        "colab": {
          "base_uri": "https://localhost:8080/",
          "height": 384
        }
      },
      "source": [
        "grouped.plot(kind='bar', figsize=(8,5))\n",
        "plt.title(\"income group distribution by year\")\n",
        "plt.xlabel(\"year\")\n",
        "plt.ylabel(\"counts\")"
      ],
      "execution_count": 0,
      "outputs": [
        {
          "output_type": "execute_result",
          "data": {
            "text/plain": [
              "Text(0, 0.5, 'counts')"
            ]
          },
          "metadata": {
            "tags": []
          },
          "execution_count": 57
        },
        {
          "output_type": "display_data",
          "data": {
            "image/png": "[encoded data removed]",
            "text/plain": [
              "<Figure size 576x360 with 1 Axes>"
            ]
          },
          "metadata": {
            "tags": []
          }
        }
      ]
    },
    {
      "cell_type": "code",
      "metadata": {
        "id": "8W7dgmR6IO54",
        "colab_type": "code",
        "outputId": "7f8a97e4-d86f-43a5-ecb7-fdf5257d5fa3",
        "colab": {
          "base_uri": "https://localhost:8080/",
          "height": 372
        }
      },
      "source": [
        "mean_birth_by_year = data.groupby('year').birth_rate.mean()\n",
        "mean_internet_by_year = data.groupby('year').internet_users.mean()\n",
        "mean_birth_by_income = data.groupby('income_group').birth_rate.mean()\n",
        "mean_internet_by_income = data.groupby('income_group').internet_users.mean()\n",
        "print(mean_birth_by_year, mean_internet_by_year, mean_birth_by_income, mean_internet_by_income)"
      ],
      "execution_count": 0,
      "outputs": [
        {
          "output_type": "stream",
          "text": [
            "year\n",
            "2008    21.476250\n",
            "2009    22.908439\n",
            "2010    25.341769\n",
            "Name: birth_rate, dtype: float64 year\n",
            "2008    42.514744\n",
            "2009    43.207244\n",
            "2010    47.340049\n",
            "Name: internet_users, dtype: float64 income_group\n",
            "High income            14.869657\n",
            "Low income             37.607679\n",
            "Lower middle income    27.495559\n",
            "Upper middle income    19.771778\n",
            "Name: birth_rate, dtype: float64 income_group\n",
            "High income            75.608867\n",
            "Low income             11.067857\n",
            "Lower middle income    26.692992\n",
            "Upper middle income    45.309907\n",
            "Name: internet_users, dtype: float64\n"
          ],
          "name": "stdout"
        }
      ]
    },
    {
      "cell_type": "markdown",
      "metadata": {
        "id": "Ypfv7iiAgyaI",
        "colab_type": "text"
      },
      "source": [
        "6) dev_index를 종속변수로 하여 다중 회귀분석 수행. 이때, 필요시 특정 변수를 더미변수화 하여 분석에 활용"
      ]
    },
    {
      "cell_type": "code",
      "metadata": {
        "id": "dfNfhyEYPV51",
        "colab_type": "code",
        "colab": {}
      },
      "source": [
        "data.drop('country', axis=1, inplace=True) #나라명 어차피 별로 의미 없는 변수 같아서 drop함"
      ],
      "execution_count": 0,
      "outputs": []
    },
    {
      "cell_type": "code",
      "metadata": {
        "id": "lPL_y5-rgz2v",
        "colab_type": "code",
        "colab": {}
      },
      "source": [
        "y = data['dev_index']\n",
        "X = data.iloc[:,:-1] #독립변수와 종속변수 분리"
      ],
      "execution_count": 0,
      "outputs": []
    },
    {
      "cell_type": "code",
      "metadata": {
        "id": "ZNlghCu3OSMe",
        "colab_type": "code",
        "colab": {}
      },
      "source": [
        "dummy_X = pd.get_dummies(X['income_group'], prefix='income_')"
      ],
      "execution_count": 0,
      "outputs": []
    },
    {
      "cell_type": "code",
      "metadata": {
        "id": "yPdbpCixQXO2",
        "colab_type": "code",
        "outputId": "112cb963-e134-423a-c87a-366d8f2c4bcb",
        "colab": {
          "base_uri": "https://localhost:8080/",
          "height": 415
        }
      },
      "source": [
        "X_add_dummy = X.join(dummy_X)\n",
        "X_add_dummy.drop('income_group', axis=1, inplace=True)\n",
        "X_add_dummy"
      ],
      "execution_count": 0,
      "outputs": [
        {
          "output_type": "execute_result",
          "data": {
            "text/html": [
              "<div>\n",
              "<style scoped>\n",
              "    .dataframe tbody tr th:only-of-type {\n",
              "        vertical-align: middle;\n",
              "    }\n",
              "\n",
              "    .dataframe tbody tr th {\n",
              "        vertical-align: top;\n",
              "    }\n",
              "\n",
              "    .dataframe thead th {\n",
              "        text-align: right;\n",
              "    }\n",
              "</style>\n",
              "<table border=\"1\" class=\"dataframe\">\n",
              "  <thead>\n",
              "    <tr style=\"text-align: right;\">\n",
              "      <th></th>\n",
              "      <th>year</th>\n",
              "      <th>birth_rate</th>\n",
              "      <th>internet_users</th>\n",
              "      <th>income__High income</th>\n",
              "      <th>income__Low income</th>\n",
              "      <th>income__Lower middle income</th>\n",
              "      <th>income__Upper middle income</th>\n",
              "    </tr>\n",
              "  </thead>\n",
              "  <tbody>\n",
              "    <tr>\n",
              "      <th>0</th>\n",
              "      <td>2008</td>\n",
              "      <td>34.800</td>\n",
              "      <td>0.9000</td>\n",
              "      <td>0</td>\n",
              "      <td>1</td>\n",
              "      <td>0</td>\n",
              "      <td>0</td>\n",
              "    </tr>\n",
              "    <tr>\n",
              "      <th>1</th>\n",
              "      <td>2008</td>\n",
              "      <td>35.755</td>\n",
              "      <td>1.1000</td>\n",
              "      <td>0</td>\n",
              "      <td>0</td>\n",
              "      <td>1</td>\n",
              "      <td>0</td>\n",
              "    </tr>\n",
              "    <tr>\n",
              "      <th>2</th>\n",
              "      <td>2008</td>\n",
              "      <td>44.151</td>\n",
              "      <td>1.3000</td>\n",
              "      <td>0</td>\n",
              "      <td>1</td>\n",
              "      <td>0</td>\n",
              "      <td>0</td>\n",
              "    </tr>\n",
              "    <tr>\n",
              "      <th>3</th>\n",
              "      <td>2008</td>\n",
              "      <td>43.891</td>\n",
              "      <td>1.5000</td>\n",
              "      <td>0</td>\n",
              "      <td>1</td>\n",
              "      <td>0</td>\n",
              "      <td>0</td>\n",
              "    </tr>\n",
              "    <tr>\n",
              "      <th>4</th>\n",
              "      <td>2008</td>\n",
              "      <td>37.337</td>\n",
              "      <td>1.6000</td>\n",
              "      <td>0</td>\n",
              "      <td>1</td>\n",
              "      <td>0</td>\n",
              "      <td>0</td>\n",
              "    </tr>\n",
              "    <tr>\n",
              "      <th>...</th>\n",
              "      <td>...</td>\n",
              "      <td>...</td>\n",
              "      <td>...</td>\n",
              "      <td>...</td>\n",
              "      <td>...</td>\n",
              "      <td>...</td>\n",
              "      <td>...</td>\n",
              "    </tr>\n",
              "    <tr>\n",
              "      <th>547</th>\n",
              "      <td>2010</td>\n",
              "      <td>22.300</td>\n",
              "      <td>98.0000</td>\n",
              "      <td>1</td>\n",
              "      <td>0</td>\n",
              "      <td>0</td>\n",
              "      <td>0</td>\n",
              "    </tr>\n",
              "    <tr>\n",
              "      <th>548</th>\n",
              "      <td>2009</td>\n",
              "      <td>11.200</td>\n",
              "      <td>98.7100</td>\n",
              "      <td>1</td>\n",
              "      <td>0</td>\n",
              "      <td>0</td>\n",
              "      <td>0</td>\n",
              "    </tr>\n",
              "    <tr>\n",
              "      <th>549</th>\n",
              "      <td>2010</td>\n",
              "      <td>2.200</td>\n",
              "      <td>99.0000</td>\n",
              "      <td>1</td>\n",
              "      <td>0</td>\n",
              "      <td>0</td>\n",
              "      <td>0</td>\n",
              "    </tr>\n",
              "    <tr>\n",
              "      <th>550</th>\n",
              "      <td>2010</td>\n",
              "      <td>22.300</td>\n",
              "      <td>99.7765</td>\n",
              "      <td>1</td>\n",
              "      <td>0</td>\n",
              "      <td>0</td>\n",
              "      <td>0</td>\n",
              "    </tr>\n",
              "    <tr>\n",
              "      <th>551</th>\n",
              "      <td>2010</td>\n",
              "      <td>37.200</td>\n",
              "      <td>99.8000</td>\n",
              "      <td>1</td>\n",
              "      <td>0</td>\n",
              "      <td>0</td>\n",
              "      <td>0</td>\n",
              "    </tr>\n",
              "  </tbody>\n",
              "</table>\n",
              "<p>530 rows × 7 columns</p>\n",
              "</div>"
            ],
            "text/plain": [
              "     year  birth_rate  ...  income__Lower middle income  income__Upper middle income\n",
              "0    2008      34.800  ...                            0                            0\n",
              "1    2008      35.755  ...                            1                            0\n",
              "2    2008      44.151  ...                            0                            0\n",
              "3    2008      43.891  ...                            0                            0\n",
              "4    2008      37.337  ...                            0                            0\n",
              "..    ...         ...  ...                          ...                          ...\n",
              "547  2010      22.300  ...                            0                            0\n",
              "548  2009      11.200  ...                            0                            0\n",
              "549  2010       2.200  ...                            0                            0\n",
              "550  2010      22.300  ...                            0                            0\n",
              "551  2010      37.200  ...                            0                            0\n",
              "\n",
              "[530 rows x 7 columns]"
            ]
          },
          "metadata": {
            "tags": []
          },
          "execution_count": 61
        }
      ]
    },
    {
      "cell_type": "code",
      "metadata": {
        "id": "cRC4UGjcPwAt",
        "colab_type": "code",
        "outputId": "570b37bb-d5a6-4164-8556-d197f258be92",
        "colab": {
          "base_uri": "https://localhost:8080/",
          "height": 657
        }
      },
      "source": [
        "X_add_dummy = sm.add_constant(X_add_dummy)\n",
        "model = sm.OLS(y, X_add_dummy).fit()\n",
        "model.summary()"
      ],
      "execution_count": 0,
      "outputs": [
        {
          "output_type": "stream",
          "text": [
            "/usr/local/lib/python3.6/dist-packages/numpy/core/fromnumeric.py:2495: FutureWarning: Method .ptp is deprecated and will be removed in a future version. Use numpy.ptp instead.\n",
            "  return ptp(axis=axis, out=out, **kwargs)\n"
          ],
          "name": "stderr"
        },
        {
          "output_type": "execute_result",
          "data": {
            "text/html": [
              "<table class=\"simpletable\">\n",
              "<caption>OLS Regression Results</caption>\n",
              "<tr>\n",
              "  <th>Dep. Variable:</th>        <td>dev_index</td>    <th>  R-squared:         </th> <td>   0.999</td> \n",
              "</tr>\n",
              "<tr>\n",
              "  <th>Model:</th>                   <td>OLS</td>       <th>  Adj. R-squared:    </th> <td>   0.999</td> \n",
              "</tr>\n",
              "<tr>\n",
              "  <th>Method:</th>             <td>Least Squares</td>  <th>  F-statistic:       </th> <td>1.057e+05</td>\n",
              "</tr>\n",
              "<tr>\n",
              "  <th>Date:</th>             <td>Tue, 25 Feb 2020</td> <th>  Prob (F-statistic):</th>  <td>  0.00</td>  \n",
              "</tr>\n",
              "<tr>\n",
              "  <th>Time:</th>                 <td>04:34:55</td>     <th>  Log-Likelihood:    </th> <td>  1205.3</td> \n",
              "</tr>\n",
              "<tr>\n",
              "  <th>No. Observations:</th>      <td>   530</td>      <th>  AIC:               </th> <td>  -2397.</td> \n",
              "</tr>\n",
              "<tr>\n",
              "  <th>Df Residuals:</th>          <td>   523</td>      <th>  BIC:               </th> <td>  -2367.</td> \n",
              "</tr>\n",
              "<tr>\n",
              "  <th>Df Model:</th>              <td>     6</td>      <th>                     </th>     <td> </td>    \n",
              "</tr>\n",
              "<tr>\n",
              "  <th>Covariance Type:</th>      <td>nonrobust</td>    <th>                     </th>     <td> </td>    \n",
              "</tr>\n",
              "</table>\n",
              "<table class=\"simpletable\">\n",
              "<tr>\n",
              "               <td></td>                  <th>coef</th>     <th>std err</th>      <th>t</th>      <th>P>|t|</th>  <th>[0.025</th>    <th>0.975]</th>  \n",
              "</tr>\n",
              "<tr>\n",
              "  <th>const</th>                       <td> -159.1866</td> <td>    2.217</td> <td>  -71.798</td> <td> 0.000</td> <td> -163.542</td> <td> -154.831</td>\n",
              "</tr>\n",
              "<tr>\n",
              "  <th>year</th>                        <td>    0.0995</td> <td>    0.001</td> <td>   72.099</td> <td> 0.000</td> <td>    0.097</td> <td>    0.102</td>\n",
              "</tr>\n",
              "<tr>\n",
              "  <th>birth_rate</th>                  <td>   -0.0017</td> <td>    0.000</td> <td>  -15.239</td> <td> 0.000</td> <td>   -0.002</td> <td>   -0.002</td>\n",
              "</tr>\n",
              "<tr>\n",
              "  <th>internet_users</th>              <td>    0.0301</td> <td> 7.65e-05</td> <td>  393.610</td> <td> 0.000</td> <td>    0.030</td> <td>    0.030</td>\n",
              "</tr>\n",
              "<tr>\n",
              "  <th>income__High income</th>         <td>  -39.8004</td> <td>    0.554</td> <td>  -71.876</td> <td> 0.000</td> <td>  -40.888</td> <td>  -38.713</td>\n",
              "</tr>\n",
              "<tr>\n",
              "  <th>income__Low income</th>          <td>  -39.7918</td> <td>    0.555</td> <td>  -71.744</td> <td> 0.000</td> <td>  -40.881</td> <td>  -38.702</td>\n",
              "</tr>\n",
              "<tr>\n",
              "  <th>income__Lower middle income</th> <td>  -39.7959</td> <td>    0.554</td> <td>  -71.773</td> <td> 0.000</td> <td>  -40.885</td> <td>  -38.707</td>\n",
              "</tr>\n",
              "<tr>\n",
              "  <th>income__Upper middle income</th> <td>  -39.7984</td> <td>    0.554</td> <td>  -71.798</td> <td> 0.000</td> <td>  -40.887</td> <td>  -38.709</td>\n",
              "</tr>\n",
              "</table>\n",
              "<table class=\"simpletable\">\n",
              "<tr>\n",
              "  <th>Omnibus:</th>       <td>2218.821</td> <th>  Durbin-Watson:     </th> <td>   2.062</td>\n",
              "</tr>\n",
              "<tr>\n",
              "  <th>Prob(Omnibus):</th>  <td> 0.000</td>  <th>  Jarque-Bera (JB):  </th> <td>  85.398</td>\n",
              "</tr>\n",
              "<tr>\n",
              "  <th>Skew:</th>           <td>-0.016</td>  <th>  Prob(JB):          </th> <td>2.86e-19</td>\n",
              "</tr>\n",
              "<tr>\n",
              "  <th>Kurtosis:</th>       <td> 1.034</td>  <th>  Cond. No.          </th> <td>8.03e+18</td>\n",
              "</tr>\n",
              "</table><br/><br/>Warnings:<br/>[1] Standard Errors assume that the covariance matrix of the errors is correctly specified.<br/>[2] The smallest eigenvalue is 3.32e-29. This might indicate that there are<br/>strong multicollinearity problems or that the design matrix is singular."
            ],
            "text/plain": [
              "<class 'statsmodels.iolib.summary.Summary'>\n",
              "\"\"\"\n",
              "                            OLS Regression Results                            \n",
              "==============================================================================\n",
              "Dep. Variable:              dev_index   R-squared:                       0.999\n",
              "Model:                            OLS   Adj. R-squared:                  0.999\n",
              "Method:                 Least Squares   F-statistic:                 1.057e+05\n",
              "Date:                Tue, 25 Feb 2020   Prob (F-statistic):               0.00\n",
              "Time:                        04:34:55   Log-Likelihood:                 1205.3\n",
              "No. Observations:                 530   AIC:                            -2397.\n",
              "Df Residuals:                     523   BIC:                            -2367.\n",
              "Df Model:                           6                                         \n",
              "Covariance Type:            nonrobust                                         \n",
              "===============================================================================================\n",
              "                                  coef    std err          t      P>|t|      [0.025      0.975]\n",
              "-----------------------------------------------------------------------------------------------\n",
              "const                        -159.1866      2.217    -71.798      0.000    -163.542    -154.831\n",
              "year                            0.0995      0.001     72.099      0.000       0.097       0.102\n",
              "birth_rate                     -0.0017      0.000    -15.239      0.000      -0.002      -0.002\n",
              "internet_users                  0.0301   7.65e-05    393.610      0.000       0.030       0.030\n",
              "income__High income           -39.8004      0.554    -71.876      0.000     -40.888     -38.713\n",
              "income__Low income            -39.7918      0.555    -71.744      0.000     -40.881     -38.702\n",
              "income__Lower middle income   -39.7959      0.554    -71.773      0.000     -40.885     -38.707\n",
              "income__Upper middle income   -39.7984      0.554    -71.798      0.000     -40.887     -38.709\n",
              "==============================================================================\n",
              "Omnibus:                     2218.821   Durbin-Watson:                   2.062\n",
              "Prob(Omnibus):                  0.000   Jarque-Bera (JB):               85.398\n",
              "Skew:                          -0.016   Prob(JB):                     2.86e-19\n",
              "Kurtosis:                       1.034   Cond. No.                     8.03e+18\n",
              "==============================================================================\n",
              "\n",
              "Warnings:\n",
              "[1] Standard Errors assume that the covariance matrix of the errors is correctly specified.\n",
              "[2] The smallest eigenvalue is 3.32e-29. This might indicate that there are\n",
              "strong multicollinearity problems or that the design matrix is singular.\n",
              "\"\"\""
            ]
          },
          "metadata": {
            "tags": []
          },
          "execution_count": 62
        }
      ]
    },
    {
      "cell_type": "markdown",
      "metadata": {
        "id": "NKf-W_C5oV74",
        "colab_type": "text"
      },
      "source": [
        "애초에 development index가 life expectancy, education, per capita income 등의 지표를 토대로 산출되는 것이기 때문에 변수들의 설명력이 매우 높음 (특히 income group) Adj. R-squared : 0.999"
      ]
    }
  ]
}